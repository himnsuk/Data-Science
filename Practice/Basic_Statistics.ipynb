{
  "cells": [
    {
      "cell_type": "code",
      "execution_count": 1,
      "metadata": {
        "id": "sEVtibd5Ra4u"
      },
      "outputs": [],
      "source": [
        "# Import Required modules\n",
        "import numpy as np\n",
        "\n",
        "import scipy.stats as stats\n",
        "import seaborn as sns\n",
        "import matplotlib.pyplot as plt"
      ]
    },
    {
      "cell_type": "markdown",
      "metadata": {
        "id": "43iRqXSmcUSn"
      },
      "source": [
        "### Basic Statistics\n",
        "\n",
        "Mean:\n",
        "\n",
        "$μ = \\frac{\\sum_{i=1}^n x_i}{ n}$\n",
        "\n",
        "Median:\n",
        "\n"
      ]
    },
    {
      "cell_type": "markdown",
      "metadata": {
        "id": "7gSZn9KUO4M8"
      },
      "source": [
        "### dnorm\n",
        "\n",
        "As we all know the probability density for the normal distribution is:\n",
        "\n",
        "$f(x|\\mu,\\sigma) = \\frac{1}{\\sigma\\sqrt{2\\pi}}e^{-\\frac{(x-\\mu)^2}{2\\sigma^2}}$\n",
        "\n",
        "\n",
        "The function dnorm returns the value of the probability density function for the normal distribution given parameters for x\n",
        ", μ\n",
        ", and σ\n",
        ". Some examples of using dnorm are below:\n",
        "\n",
        "> It gives the height of the curve at a given point on x"
      ]
    },
    {
      "cell_type": "markdown",
      "metadata": {
        "id": "Oyo5xXo5QRAK"
      },
      "source": [
        "### Equivalence between distribution functions in R and Python\n",
        "\n",
        "| R |\tSciPy |\tName |\n",
        "| --- | --- | --- |\n",
        "|dnorm()\t|pdf()\t|Probability density function (PDF)|\n",
        "|pnorm()\t|cdf()\t|Cumulative density function (CDF)|\n",
        "|qnorm()\t|ppf()\t|Percentile point function (CDF inverse)|\n",
        "|pnorm(lower.tail = FALSE)\t| sf()\t|Complementary CDF (CCDF) or survival |function\n",
        "|qnorm(lower.tail = FALSE)\t| isf()\t|CCDF inverse or inverse survival function|\n",
        "|rnorm()\t|rvs()\t|Random samples|"
      ]
    },
    {
      "cell_type": "markdown",
      "metadata": {
        "id": "OyJXJcZSRAmF"
      },
      "source": []
    },
    {
      "cell_type": "code",
      "execution_count": 2,
      "metadata": {
        "colab": {
          "base_uri": "https://localhost:8080/"
        },
        "id": "0GvH18agRPj9",
        "outputId": "48b95ef5-d52a-439c-d0b4-7d450f0cb5df"
      },
      "outputs": [
        {
          "data": {
            "text/plain": [
              "0.3989422804014327"
            ]
          },
          "execution_count": 2,
          "metadata": {},
          "output_type": "execute_result"
        }
      ],
      "source": [
        "stats.norm.pdf(0, 0, 1)"
      ]
    },
    {
      "cell_type": "code",
      "execution_count": 3,
      "metadata": {
        "colab": {
          "base_uri": "https://localhost:8080/"
        },
        "id": "qH011X8ERrCU",
        "outputId": "0a634b71-3ae1-480a-bcdd-a67b9eda1cd7"
      },
      "outputs": [
        {
          "data": {
            "text/plain": [
              "0.24197072451914337"
            ]
          },
          "execution_count": 3,
          "metadata": {},
          "output_type": "execute_result"
        }
      ],
      "source": [
        "stats.norm.pdf(1, 0, 1)"
      ]
    },
    {
      "cell_type": "code",
      "execution_count": 4,
      "metadata": {
        "colab": {
          "base_uri": "https://localhost:8080/"
        },
        "id": "OhwEoKWyTgmn",
        "outputId": "cf9c1351-3d5f-4c8e-b91e-b7754a4b4164"
      },
      "outputs": [
        {
          "data": {
            "text/plain": [
              "0.24197072451914337"
            ]
          },
          "execution_count": 4,
          "metadata": {},
          "output_type": "execute_result"
        }
      ],
      "source": [
        "stats.norm.pdf(-1, 0, 1)"
      ]
    },
    {
      "cell_type": "markdown",
      "metadata": {
        "id": "BTncCF7RT73E"
      },
      "source": [
        "### pnorm\n",
        "The function pnorm returns the integral from −∞\n",
        " to q\n",
        " of the pdf of the normal distribution where q\n",
        " is a Z-score. Try to guess the value of pnorm(0). (pnorm has the same default mean and sd arguments as dnorm)."
      ]
    },
    {
      "cell_type": "code",
      "execution_count": 5,
      "metadata": {
        "colab": {
          "base_uri": "https://localhost:8080/"
        },
        "id": "XNAmu9Q3TiE0",
        "outputId": "9e3dfca8-ba96-4e6d-f807-640a88a68e06"
      },
      "outputs": [
        {
          "data": {
            "text/plain": [
              "0.5"
            ]
          },
          "execution_count": 5,
          "metadata": {},
          "output_type": "execute_result"
        }
      ],
      "source": [
        "# To be clear about the arguments in this example:\n",
        "# q = 0, mean = 0, sd = 1\n",
        "stats.norm.cdf(0)"
      ]
    },
    {
      "cell_type": "code",
      "execution_count": 6,
      "metadata": {
        "colab": {
          "base_uri": "https://localhost:8080/"
        },
        "id": "vmMJxylBUCgT",
        "outputId": "8a03c7b5-d06d-47fb-9bdc-c641ab6bfd55"
      },
      "outputs": [
        {
          "data": {
            "text/plain": [
              "0.8413447460685429"
            ]
          },
          "execution_count": 6,
          "metadata": {},
          "output_type": "execute_result"
        }
      ],
      "source": [
        "stats.norm.cdf(1)"
      ]
    },
    {
      "cell_type": "code",
      "execution_count": 7,
      "metadata": {
        "colab": {
          "base_uri": "https://localhost:8080/"
        },
        "id": "bOrLM21VsRDR",
        "outputId": "f554092d-517c-4876-9072-ac43c46ae6b3"
      },
      "outputs": [
        {
          "data": {
            "text/plain": [
              "0.6826894921370859"
            ]
          },
          "execution_count": 7,
          "metadata": {},
          "output_type": "execute_result"
        }
      ],
      "source": [
        "stats.norm.cdf(1) - stats.norm.cdf(-1)"
      ]
    },
    {
      "cell_type": "code",
      "execution_count": 8,
      "metadata": {
        "colab": {
          "base_uri": "https://localhost:8080/"
        },
        "id": "-u7ZQQScsS1F",
        "outputId": "211735ce-c3e7-44f1-e32d-0875c308855a"
      },
      "outputs": [
        {
          "data": {
            "text/plain": [
              "0.15865525393145707"
            ]
          },
          "execution_count": 8,
          "metadata": {},
          "output_type": "execute_result"
        }
      ],
      "source": [
        "# Get area under curve from left to right\n",
        "stats.norm.cdf(2, 5, 3)"
      ]
    },
    {
      "cell_type": "code",
      "execution_count": 9,
      "metadata": {
        "colab": {
          "base_uri": "https://localhost:8080/",
          "height": 52
        },
        "id": "_so6aEgutTEt",
        "outputId": "20c91366-22ee-43cd-b4f2-d4e366d516f6"
      },
      "outputs": [
        {
          "data": {
            "text/plain": [
              "0.8413447460685429"
            ]
          },
          "metadata": {},
          "output_type": "display_data"
        },
        {
          "data": {
            "text/plain": [
              "0.8413447460685429"
            ]
          },
          "metadata": {},
          "output_type": "display_data"
        }
      ],
      "source": [
        "# Get area under curver from right to left by subtracting from 1\n",
        "display(1 - stats.norm.cdf(2, 5, 3))\n",
        "display(stats.norm.sf(2, 5, 3))"
      ]
    },
    {
      "cell_type": "markdown",
      "metadata": {
        "id": "5DjMmjnOwnVw"
      },
      "source": [
        "### qnorm\n",
        "The qnorm function is simply the inverse of the cdf, which you can also think of as the inverse of pnorm! You can use qnorm to determine the answer to the question: What is the Z-score of the pth\n",
        " quantile of the normal distribution?"
      ]
    },
    {
      "cell_type": "code",
      "execution_count": 10,
      "metadata": {
        "colab": {
          "base_uri": "https://localhost:8080/",
          "height": 69
        },
        "id": "xOhTdcslwVv9",
        "outputId": "473dab8e-2107-4e1a-b6e2-ef26a4eab3ab"
      },
      "outputs": [
        {
          "data": {
            "text/plain": [
              "0.0"
            ]
          },
          "metadata": {},
          "output_type": "display_data"
        },
        {
          "data": {
            "text/plain": [
              "inf"
            ]
          },
          "metadata": {},
          "output_type": "display_data"
        },
        {
          "data": {
            "text/plain": [
              "0.994457883209753"
            ]
          },
          "metadata": {},
          "output_type": "display_data"
        }
      ],
      "source": [
        "display(stats.norm.ppf(0.5))\n",
        "display(stats.norm.ppf(1))\n",
        "display(stats.norm.ppf(.84))"
      ]
    },
    {
      "cell_type": "code",
      "execution_count": 11,
      "metadata": {
        "colab": {
          "base_uri": "https://localhost:8080/"
        },
        "id": "on2vNRE3wlnt",
        "outputId": "0e4a17c6-cd8e-473c-c8fd-cb90af5ab019"
      },
      "outputs": [
        {
          "data": {
            "text/plain": [
              "-0.994457883209753"
            ]
          },
          "execution_count": 11,
          "metadata": {},
          "output_type": "execute_result"
        }
      ],
      "source": [
        "# The reverse of ppf\n",
        "stats.norm.isf(0.84)"
      ]
    },
    {
      "cell_type": "markdown",
      "metadata": {
        "id": "yxbnai0E1_DP"
      },
      "source": [
        "### rnorm\n",
        "If you want to generate a vector of normally distributed random numbers, rnorm is the function you should use. The first argument n is the number of numbers you want to generate, followed by the standard mean and sd arguments. Let’s illustrate the weak law of large numbers using rnorm."
      ]
    },
    {
      "cell_type": "code",
      "execution_count": 12,
      "metadata": {
        "colab": {
          "base_uri": "https://localhost:8080/"
        },
        "id": "a7kKdHNox7N0",
        "outputId": "79f657c3-afa1-4534-dd32-992e63ffbfa1"
      },
      "outputs": [
        {
          "data": {
            "text/plain": [
              "-0.35736712851678304"
            ]
          },
          "execution_count": 12,
          "metadata": {},
          "output_type": "execute_result"
        }
      ],
      "source": [
        "stats.norm.rvs(0)"
      ]
    },
    {
      "cell_type": "markdown",
      "metadata": {
        "id": "6MLH0Wq1-wYg"
      },
      "source": [
        "## Descriptive statistics\n"
      ]
    },
    {
      "cell_type": "code",
      "execution_count": 13,
      "metadata": {
        "id": "z6nkiWV12IRW"
      },
      "outputs": [],
      "source": [
        "import pandas as pd\n",
        "\n",
        "afl_finalists = pd.read_csv(\n",
        "    'https://raw.githubusercontent.com/ethanweed/pythonbook/main/Data/afl_finalists.csv')\n",
        "afl_margins = pd.read_csv(\n",
        "    'https://raw.githubusercontent.com/ethanweed/pythonbook/main/Data/afl_margins.csv')"
      ]
    },
    {
      "cell_type": "code",
      "execution_count": 14,
      "metadata": {
        "colab": {
          "base_uri": "https://localhost:8080/",
          "height": 395
        },
        "id": "akSqaRUI-03O",
        "outputId": "f5f187ef-4d13-4127-e6cc-3c8f24968ac5"
      },
      "outputs": [
        {
          "data": {
            "text/html": [
              "<div>\n",
              "<style scoped>\n",
              "    .dataframe tbody tr th:only-of-type {\n",
              "        vertical-align: middle;\n",
              "    }\n",
              "\n",
              "    .dataframe tbody tr th {\n",
              "        vertical-align: top;\n",
              "    }\n",
              "\n",
              "    .dataframe thead th {\n",
              "        text-align: right;\n",
              "    }\n",
              "</style>\n",
              "<table border=\"1\" class=\"dataframe\">\n",
              "  <thead>\n",
              "    <tr style=\"text-align: right;\">\n",
              "      <th></th>\n",
              "      <th>afl.finalists</th>\n",
              "    </tr>\n",
              "  </thead>\n",
              "  <tbody>\n",
              "    <tr>\n",
              "      <th>0</th>\n",
              "      <td>Hawthorn</td>\n",
              "    </tr>\n",
              "    <tr>\n",
              "      <th>1</th>\n",
              "      <td>Melbourne</td>\n",
              "    </tr>\n",
              "    <tr>\n",
              "      <th>2</th>\n",
              "      <td>Carlton</td>\n",
              "    </tr>\n",
              "    <tr>\n",
              "      <th>3</th>\n",
              "      <td>Melbourne</td>\n",
              "    </tr>\n",
              "    <tr>\n",
              "      <th>4</th>\n",
              "      <td>Hawthorn</td>\n",
              "    </tr>\n",
              "  </tbody>\n",
              "</table>\n",
              "</div>"
            ],
            "text/plain": [
              "  afl.finalists\n",
              "0      Hawthorn\n",
              "1     Melbourne\n",
              "2       Carlton\n",
              "3     Melbourne\n",
              "4      Hawthorn"
            ]
          },
          "metadata": {},
          "output_type": "display_data"
        },
        {
          "data": {
            "text/html": [
              "<div>\n",
              "<style scoped>\n",
              "    .dataframe tbody tr th:only-of-type {\n",
              "        vertical-align: middle;\n",
              "    }\n",
              "\n",
              "    .dataframe tbody tr th {\n",
              "        vertical-align: top;\n",
              "    }\n",
              "\n",
              "    .dataframe thead th {\n",
              "        text-align: right;\n",
              "    }\n",
              "</style>\n",
              "<table border=\"1\" class=\"dataframe\">\n",
              "  <thead>\n",
              "    <tr style=\"text-align: right;\">\n",
              "      <th></th>\n",
              "      <th>afl.margins</th>\n",
              "    </tr>\n",
              "  </thead>\n",
              "  <tbody>\n",
              "    <tr>\n",
              "      <th>0</th>\n",
              "      <td>56</td>\n",
              "    </tr>\n",
              "    <tr>\n",
              "      <th>1</th>\n",
              "      <td>31</td>\n",
              "    </tr>\n",
              "    <tr>\n",
              "      <th>2</th>\n",
              "      <td>56</td>\n",
              "    </tr>\n",
              "    <tr>\n",
              "      <th>3</th>\n",
              "      <td>8</td>\n",
              "    </tr>\n",
              "    <tr>\n",
              "      <th>4</th>\n",
              "      <td>32</td>\n",
              "    </tr>\n",
              "  </tbody>\n",
              "</table>\n",
              "</div>"
            ],
            "text/plain": [
              "   afl.margins\n",
              "0           56\n",
              "1           31\n",
              "2           56\n",
              "3            8\n",
              "4           32"
            ]
          },
          "metadata": {},
          "output_type": "display_data"
        }
      ],
      "source": [
        "display(afl_finalists.head())\n",
        "display(afl_margins.head())"
      ]
    },
    {
      "cell_type": "code",
      "execution_count": 15,
      "metadata": {
        "colab": {
          "base_uri": "https://localhost:8080/",
          "height": 449
        },
        "id": "62nbD3Wl-6-L",
        "outputId": "a580a3da-e051-4969-cf22-d93a3bc66276"
      },
      "outputs": [
        {
          "data": {
            "image/png": "[encoded data removed]",
            "text/plain": [
              "<Figure size 640x480 with 1 Axes>"
            ]
          },
          "metadata": {},
          "output_type": "display_data"
        }
      ],
      "source": [
        "\n",
        "ax = sns.histplot(afl_margins)\n",
        "\n",
        "ax.set(xlabel=\"Winning Margin\", ylabel=\"Frequency\")\n",
        "\n",
        "sns.despine()"
      ]
    },
    {
      "cell_type": "code",
      "execution_count": 16,
      "metadata": {
        "colab": {
          "base_uri": "https://localhost:8080/"
        },
        "id": "7p-vceEf_zeo",
        "outputId": "6a293f5b-65e2-441b-eee4-8ff8adbecf94"
      },
      "outputs": [
        {
          "data": {
            "text/plain": [
              "array(['Hawthorn', 'Melbourne', 'Carlton', 'Essendon', 'Geelong',\n",
              "       'Collingwood', 'West Coast', 'St Kilda', 'Western Bulldogs',\n",
              "       'Adelaide', 'North Melbourne', 'Richmond', 'Brisbane', 'Sydney',\n",
              "       'Port Adelaide', 'Fremantle'], dtype=object)"
            ]
          },
          "execution_count": 16,
          "metadata": {},
          "output_type": "execute_result"
        }
      ],
      "source": [
        "afl_finalists[\"afl.finalists\"].unique()"
      ]
    },
    {
      "cell_type": "code",
      "execution_count": 17,
      "metadata": {
        "colab": {
          "base_uri": "https://localhost:8080/"
        },
        "id": "Ri4XedDIAN6e",
        "outputId": "ac3cbab8-e593-477b-fc54-4bc72fee73fd"
      },
      "outputs": [
        {
          "data": {
            "text/plain": [
              "([0, 1, 2, 3, 4, 5, 6, 7, 8, 9, 10, 11, 12, 13, 14, 15],\n",
              " [Text(0, 0, 'Hawthorn'),\n",
              "  Text(1, 0, 'Melbourne'),\n",
              "  Text(2, 0, 'Carlton'),\n",
              "  Text(3, 0, 'Essendon'),\n",
              "  Text(4, 0, 'Geelong'),\n",
              "  Text(5, 0, 'Collingwood'),\n",
              "  Text(6, 0, 'West Coast'),\n",
              "  Text(7, 0, 'St Kilda'),\n",
              "  Text(8, 0, 'Western Bulldogs'),\n",
              "  Text(9, 0, 'Adelaide'),\n",
              "  Text(10, 0, 'North Melbourne'),\n",
              "  Text(11, 0, 'Richmond'),\n",
              "  Text(12, 0, 'Brisbane'),\n",
              "  Text(13, 0, 'Sydney'),\n",
              "  Text(14, 0, 'Port Adelaide'),\n",
              "  Text(15, 0, 'Fremantle')])"
            ]
          },
          "execution_count": 17,
          "metadata": {},
          "output_type": "execute_result"
        },
        {
          "data": {
            "image/png": "[encoded data removed]",
            "text/plain": [
              "<Figure size 640x480 with 1 Axes>"
            ]
          },
          "metadata": {},
          "output_type": "display_data"
        }
      ],
      "source": [
        "g = sns.histplot(afl_finalists[\"afl.finalists\"])\n",
        "plt.xticks(rotation=90)"
      ]
    },
    {
      "cell_type": "code",
      "execution_count": 18,
      "metadata": {
        "id": "ePsGJ0SoAfoe"
      },
      "outputs": [
        {
          "data": {
            "text/plain": [
              "<Axes: xlabel='afl.finalists'>"
            ]
          },
          "metadata": {},
          "output_type": "display_data"
        },
        {
          "data": {
            "image/png": "[encoded data removed]",
            "text/plain": [
              "<Figure size 640x480 with 1 Axes>"
            ]
          },
          "metadata": {},
          "output_type": "display_data"
        }
      ],
      "source": [
        "display(afl_finalists[\"afl.finalists\"].value_counts().head().plot(\n",
        "    kind=\"bar\", color=[\"green\", \"red\"] + [\"blue\" for x in range(16)]))"
      ]
    },
    {
      "cell_type": "code",
      "execution_count": 19,
      "metadata": {},
      "outputs": [
        {
          "data": {
            "text/plain": [
              "<Axes: ylabel='afl.finalists'>"
            ]
          },
          "metadata": {},
          "output_type": "display_data"
        },
        {
          "data": {
            "image/png": "[encoded data removed]",
            "text/plain": [
              "<Figure size 640x480 with 1 Axes>"
            ]
          },
          "metadata": {},
          "output_type": "display_data"
        }
      ],
      "source": [
        "display(afl_finalists[\"afl.finalists\"].value_counts().sort_values().head().plot(\n",
        "    kind=\"barh\", color=[\"blue\" for x in range(3)] + [\"green\", \"red\"]))"
      ]
    },
    {
      "cell_type": "code",
      "execution_count": 20,
      "metadata": {},
      "outputs": [
        {
          "data": {
            "text/plain": [
              "<bound method Series.unique of 0      56\n",
              "1      31\n",
              "2      56\n",
              "3       8\n",
              "4      32\n",
              "       ..\n",
              "171    28\n",
              "172    38\n",
              "173    29\n",
              "174    10\n",
              "175    10\n",
              "Name: afl.margins, Length: 176, dtype: int64>"
            ]
          },
          "execution_count": 20,
          "metadata": {},
          "output_type": "execute_result"
        }
      ],
      "source": [
        "afl_margins[\"afl.margins\"].unique"
      ]
    },
    {
      "cell_type": "code",
      "execution_count": 21,
      "metadata": {},
      "outputs": [
        {
          "data": {
            "text/html": [
              "<div>\n",
              "<style scoped>\n",
              "    .dataframe tbody tr th:only-of-type {\n",
              "        vertical-align: middle;\n",
              "    }\n",
              "\n",
              "    .dataframe tbody tr th {\n",
              "        vertical-align: top;\n",
              "    }\n",
              "\n",
              "    .dataframe thead th {\n",
              "        text-align: right;\n",
              "    }\n",
              "</style>\n",
              "<table border=\"1\" class=\"dataframe\">\n",
              "  <thead>\n",
              "    <tr style=\"text-align: right;\">\n",
              "      <th></th>\n",
              "      <th>afl.margins</th>\n",
              "    </tr>\n",
              "  </thead>\n",
              "  <tbody>\n",
              "    <tr>\n",
              "      <th>count</th>\n",
              "      <td>176.000000</td>\n",
              "    </tr>\n",
              "    <tr>\n",
              "      <th>mean</th>\n",
              "      <td>35.301136</td>\n",
              "    </tr>\n",
              "    <tr>\n",
              "      <th>std</th>\n",
              "      <td>26.073636</td>\n",
              "    </tr>\n",
              "    <tr>\n",
              "      <th>min</th>\n",
              "      <td>0.000000</td>\n",
              "    </tr>\n",
              "    <tr>\n",
              "      <th>25%</th>\n",
              "      <td>12.750000</td>\n",
              "    </tr>\n",
              "    <tr>\n",
              "      <th>50%</th>\n",
              "      <td>30.500000</td>\n",
              "    </tr>\n",
              "    <tr>\n",
              "      <th>75%</th>\n",
              "      <td>50.500000</td>\n",
              "    </tr>\n",
              "    <tr>\n",
              "      <th>max</th>\n",
              "      <td>116.000000</td>\n",
              "    </tr>\n",
              "  </tbody>\n",
              "</table>\n",
              "</div>"
            ],
            "text/plain": [
              "       afl.margins\n",
              "count   176.000000\n",
              "mean     35.301136\n",
              "std      26.073636\n",
              "min       0.000000\n",
              "25%      12.750000\n",
              "50%      30.500000\n",
              "75%      50.500000\n",
              "max     116.000000"
            ]
          },
          "metadata": {},
          "output_type": "display_data"
        }
      ],
      "source": [
        "display(afl_margins.describe())"
      ]
    },
    {
      "cell_type": "code",
      "execution_count": 22,
      "metadata": {},
      "outputs": [
        {
          "name": "stdout",
          "output_type": "stream",
          "text": [
            "<class 'pandas.core.frame.DataFrame'>\n",
            "RangeIndex: 176 entries, 0 to 175\n",
            "Data columns (total 1 columns):\n",
            " #   Column       Non-Null Count  Dtype\n",
            "---  ------       --------------  -----\n",
            " 0   afl.margins  176 non-null    int64\n",
            "dtypes: int64(1)\n",
            "memory usage: 1.5 KB\n"
          ]
        },
        {
          "data": {
            "text/plain": [
              "None"
            ]
          },
          "metadata": {},
          "output_type": "display_data"
        }
      ],
      "source": [
        "display(afl_margins.info())"
      ]
    },
    {
      "cell_type": "code",
      "execution_count": 23,
      "metadata": {},
      "outputs": [
        {
          "data": {
            "text/plain": [
              "<Axes: >"
            ]
          },
          "execution_count": 23,
          "metadata": {},
          "output_type": "execute_result"
        },
        {
          "data": {
            "image/png": "[encoded data removed]",
            "text/plain": [
              "<Figure size 640x480 with 1 Axes>"
            ]
          },
          "metadata": {},
          "output_type": "display_data"
        }
      ],
      "source": [
        "afl_margins[\"afl.margins\"].hist(color=\"orange\")"
      ]
    },
    {
      "cell_type": "markdown",
      "metadata": {},
      "source": [
        "### nterquartile range"
      ]
    },
    {
      "cell_type": "code",
      "execution_count": 24,
      "metadata": {},
      "outputs": [
        {
          "data": {
            "text/plain": [
              "'Mean => '"
            ]
          },
          "metadata": {},
          "output_type": "display_data"
        },
        {
          "data": {
            "text/plain": [
              "35.30113636363637"
            ]
          },
          "metadata": {},
          "output_type": "display_data"
        },
        {
          "data": {
            "text/plain": [
              "'Median => '"
            ]
          },
          "metadata": {},
          "output_type": "display_data"
        },
        {
          "data": {
            "text/plain": [
              "30.5"
            ]
          },
          "metadata": {},
          "output_type": "display_data"
        }
      ],
      "source": [
        "import statistics\n",
        "display(\n",
        "    \"Mean => \",\n",
        "    statistics.mean(afl_margins[\"afl.margins\"]),\n",
        "    \"Median => \",\n",
        "    statistics.median(afl_margins[\"afl.margins\"]))"
      ]
    },
    {
      "cell_type": "code",
      "execution_count": 25,
      "metadata": {},
      "outputs": [
        {
          "data": {
            "text/plain": [
              "33.75"
            ]
          },
          "execution_count": 25,
          "metadata": {},
          "output_type": "execute_result"
        }
      ],
      "source": [
        "stats.trim_mean(afl_margins[\"afl.margins\"], 0.05)"
      ]
    },
    {
      "cell_type": "code",
      "execution_count": 26,
      "metadata": {},
      "outputs": [
        {
          "data": {
            "text/plain": [
              "array([12. , 50.5])"
            ]
          },
          "execution_count": 26,
          "metadata": {},
          "output_type": "execute_result"
        }
      ],
      "source": [
        "margins = afl_margins[\"afl.margins\"]\n",
        "np.quantile(margins,  [0.24, 0.75])"
      ]
    },
    {
      "cell_type": "code",
      "execution_count": 27,
      "metadata": {},
      "outputs": [
        {
          "data": {
            "text/plain": [
              "37.75"
            ]
          },
          "execution_count": 27,
          "metadata": {},
          "output_type": "execute_result"
        }
      ],
      "source": [
        "stats.iqr(margins)"
      ]
    },
    {
      "cell_type": "code",
      "execution_count": 28,
      "metadata": {},
      "outputs": [
        {
          "data": {
            "text/plain": [
              "679.834512987013"
            ]
          },
          "metadata": {},
          "output_type": "display_data"
        },
        {
          "data": {
            "text/plain": [
              "26.073636359108274"
            ]
          },
          "metadata": {},
          "output_type": "display_data"
        }
      ],
      "source": [
        "display(statistics.variance(margins), statistics.stdev(margins))\n"
      ]
    },
    {
      "cell_type": "code",
      "execution_count": 29,
      "metadata": {},
      "outputs": [],
      "source": [
        "file = 'https://raw.githubusercontent.com/ethanweed/pythonbook/main/Data/parenthood.csv'\n",
        "parenthood = pd.read_csv(file)"
      ]
    },
    {
      "cell_type": "code",
      "execution_count": 30,
      "metadata": {},
      "outputs": [
        {
          "data": {
            "text/html": [
              "<div>\n",
              "<style scoped>\n",
              "    .dataframe tbody tr th:only-of-type {\n",
              "        vertical-align: middle;\n",
              "    }\n",
              "\n",
              "    .dataframe tbody tr th {\n",
              "        vertical-align: top;\n",
              "    }\n",
              "\n",
              "    .dataframe thead th {\n",
              "        text-align: right;\n",
              "    }\n",
              "</style>\n",
              "<table border=\"1\" class=\"dataframe\">\n",
              "  <thead>\n",
              "    <tr style=\"text-align: right;\">\n",
              "      <th></th>\n",
              "      <th>dan_sleep</th>\n",
              "      <th>baby_sleep</th>\n",
              "      <th>dan_grump</th>\n",
              "      <th>day</th>\n",
              "    </tr>\n",
              "  </thead>\n",
              "  <tbody>\n",
              "    <tr>\n",
              "      <th>0</th>\n",
              "      <td>7.59</td>\n",
              "      <td>10.18</td>\n",
              "      <td>56</td>\n",
              "      <td>1</td>\n",
              "    </tr>\n",
              "    <tr>\n",
              "      <th>1</th>\n",
              "      <td>7.91</td>\n",
              "      <td>11.66</td>\n",
              "      <td>60</td>\n",
              "      <td>2</td>\n",
              "    </tr>\n",
              "    <tr>\n",
              "      <th>2</th>\n",
              "      <td>5.14</td>\n",
              "      <td>7.92</td>\n",
              "      <td>82</td>\n",
              "      <td>3</td>\n",
              "    </tr>\n",
              "    <tr>\n",
              "      <th>3</th>\n",
              "      <td>7.71</td>\n",
              "      <td>9.61</td>\n",
              "      <td>55</td>\n",
              "      <td>4</td>\n",
              "    </tr>\n",
              "    <tr>\n",
              "      <th>4</th>\n",
              "      <td>6.68</td>\n",
              "      <td>9.75</td>\n",
              "      <td>67</td>\n",
              "      <td>5</td>\n",
              "    </tr>\n",
              "  </tbody>\n",
              "</table>\n",
              "</div>"
            ],
            "text/plain": [
              "   dan_sleep  baby_sleep  dan_grump  day\n",
              "0       7.59       10.18         56    1\n",
              "1       7.91       11.66         60    2\n",
              "2       5.14        7.92         82    3\n",
              "3       7.71        9.61         55    4\n",
              "4       6.68        9.75         67    5"
            ]
          },
          "metadata": {},
          "output_type": "display_data"
        },
        {
          "data": {
            "text/html": [
              "<div>\n",
              "<style scoped>\n",
              "    .dataframe tbody tr th:only-of-type {\n",
              "        vertical-align: middle;\n",
              "    }\n",
              "\n",
              "    .dataframe tbody tr th {\n",
              "        vertical-align: top;\n",
              "    }\n",
              "\n",
              "    .dataframe thead th {\n",
              "        text-align: right;\n",
              "    }\n",
              "</style>\n",
              "<table border=\"1\" class=\"dataframe\">\n",
              "  <thead>\n",
              "    <tr style=\"text-align: right;\">\n",
              "      <th></th>\n",
              "      <th>dan_sleep</th>\n",
              "      <th>baby_sleep</th>\n",
              "      <th>dan_grump</th>\n",
              "      <th>day</th>\n",
              "    </tr>\n",
              "  </thead>\n",
              "  <tbody>\n",
              "    <tr>\n",
              "      <th>count</th>\n",
              "      <td>100.000000</td>\n",
              "      <td>100.000000</td>\n",
              "      <td>100.00000</td>\n",
              "      <td>100.000000</td>\n",
              "    </tr>\n",
              "    <tr>\n",
              "      <th>mean</th>\n",
              "      <td>6.965200</td>\n",
              "      <td>8.049200</td>\n",
              "      <td>63.71000</td>\n",
              "      <td>50.500000</td>\n",
              "    </tr>\n",
              "    <tr>\n",
              "      <th>std</th>\n",
              "      <td>1.015884</td>\n",
              "      <td>2.074232</td>\n",
              "      <td>10.04967</td>\n",
              "      <td>29.011492</td>\n",
              "    </tr>\n",
              "    <tr>\n",
              "      <th>min</th>\n",
              "      <td>4.840000</td>\n",
              "      <td>3.250000</td>\n",
              "      <td>41.00000</td>\n",
              "      <td>1.000000</td>\n",
              "    </tr>\n",
              "    <tr>\n",
              "      <th>25%</th>\n",
              "      <td>6.292500</td>\n",
              "      <td>6.425000</td>\n",
              "      <td>57.00000</td>\n",
              "      <td>25.750000</td>\n",
              "    </tr>\n",
              "    <tr>\n",
              "      <th>50%</th>\n",
              "      <td>7.030000</td>\n",
              "      <td>7.950000</td>\n",
              "      <td>62.00000</td>\n",
              "      <td>50.500000</td>\n",
              "    </tr>\n",
              "    <tr>\n",
              "      <th>75%</th>\n",
              "      <td>7.740000</td>\n",
              "      <td>9.635000</td>\n",
              "      <td>71.00000</td>\n",
              "      <td>75.250000</td>\n",
              "    </tr>\n",
              "    <tr>\n",
              "      <th>max</th>\n",
              "      <td>9.000000</td>\n",
              "      <td>12.070000</td>\n",
              "      <td>91.00000</td>\n",
              "      <td>100.000000</td>\n",
              "    </tr>\n",
              "  </tbody>\n",
              "</table>\n",
              "</div>"
            ],
            "text/plain": [
              "        dan_sleep  baby_sleep  dan_grump         day\n",
              "count  100.000000  100.000000  100.00000  100.000000\n",
              "mean     6.965200    8.049200   63.71000   50.500000\n",
              "std      1.015884    2.074232   10.04967   29.011492\n",
              "min      4.840000    3.250000   41.00000    1.000000\n",
              "25%      6.292500    6.425000   57.00000   25.750000\n",
              "50%      7.030000    7.950000   62.00000   50.500000\n",
              "75%      7.740000    9.635000   71.00000   75.250000\n",
              "max      9.000000   12.070000   91.00000  100.000000"
            ]
          },
          "metadata": {},
          "output_type": "display_data"
        }
      ],
      "source": [
        "display(parenthood.head(), parenthood.describe())"
      ]
    },
    {
      "cell_type": "code",
      "execution_count": 31,
      "metadata": {},
      "outputs": [
        {
          "data": {
            "image/png": "[encoded data removed]",
            "text/plain": [
              "<Figure size 1500x500 with 2 Axes>"
            ]
          },
          "metadata": {},
          "output_type": "display_data"
        }
      ],
      "source": [
        "fig, axes = plt.subplots(1,2, figsize=(15,5), sharey=True)\n",
        "fig.suptitle(\"Sleepy, grumpy scatterplots\")\n",
        "\n",
        "sns.scatterplot(x= \"dan_sleep\", y = \"dan_grump\", ax = axes[0], data=parenthood)\n",
        "fig.axes[0].set_title(\"Dan\")\n",
        "fig.axes[0].set_xlabel(\"Sleep\")\n",
        "fig.axes[0].set_ylabel(\"My Grumpiness\")\n",
        "\n",
        "sns.scatterplot(x = \"baby_sleep\", y = \"dan_grump\", ax = axes[1], data=parenthood)\n",
        "fig.axes[1].set_title(\"Baby\")\n",
        "fig.axes[1].set_xlabel(\"Sleep\")\n",
        "# fig.axes[1].set_ylabel(\"My Grumpiness\")\n",
        "sns.despine()"
      ]
    },
    {
      "cell_type": "code",
      "execution_count": 32,
      "metadata": {},
      "outputs": [
        {
          "data": {
            "image/png": "[encoded data removed]",
            "text/plain": [
              "<Figure size 1500x500 with 3 Axes>"
            ]
          },
          "metadata": {},
          "output_type": "display_data"
        }
      ],
      "source": [
        "import matplotlib.pyplot as plt\n",
        "import numpy as np\n",
        "import seaborn as sns\n",
        "import scipy.stats as stats\n",
        "import math\n",
        "\n",
        "# arrange a grid of three plots\n",
        "fig, axes = plt.subplots(1, 3, figsize=(15, 5))\n",
        "\n",
        "# plot normal distribution\n",
        "mu = 100\n",
        "sigma = 15\n",
        "x = np.linspace(mu - 3*sigma, mu + 3*sigma, 100)\n",
        "y = stats.norm.pdf(x, mu, sigma)\n",
        "ax0 = sns.lineplot(x=x,y=y, ax=axes[0])\n",
        "\n",
        "# plot histogram of 100 samples from normal distribution\n",
        "IQ = np.random.normal(loc=100,scale=15,size=100)\n",
        "ax1 = sns.histplot(IQ, ax=axes[1])\n",
        "\n",
        "# plot histogram of 10000 samples from normal distribution\n",
        "IQ = np.random.normal(loc=100,scale=15,size=10000)\n",
        "ax2 = sns.histplot(IQ,ax=axes[2])\n",
        "\n",
        "# add titles, labels, and formatting\n",
        "labels = ['A', 'B', 'C']\n",
        "titles = ['Normal Distribution', '100 samples', '10,000 samples']\n",
        "for i,ax in enumerate(axes):\n",
        "    ax.set_title(titles[i])\n",
        "    ax.text(-0.1, 1.15, labels[i], transform=ax.transAxes,\n",
        "      fontsize=16, fontweight='bold', va='top', ha='right')\n",
        "    ax.set(xticklabels=[])\n",
        "    ax.set(yticklabels=[])\n",
        "    ax.set(ylabel=None)\n",
        "    ax.tick_params(axis='both', \n",
        "                   which='both',\n",
        "                   bottom=False,\n",
        "                   left=False)\n",
        "\n",
        "# remove top and bottom spines\n",
        "sns.despine()"
      ]
    },
    {
      "cell_type": "markdown",
      "metadata": {},
      "source": [
        "## Linear regression"
      ]
    },
    {
      "cell_type": "code",
      "execution_count": null,
      "metadata": {},
      "outputs": [],
      "source": []
    }
  ],
  "metadata": {
    "colab": {
      "provenance": []
    },
    "kernelspec": {
      "display_name": "Python 3",
      "name": "python3"
    },
    "language_info": {
      "codemirror_mode": {
        "name": "ipython",
        "version": 3
      },
      "file_extension": ".py",
      "mimetype": "text/x-python",
      "name": "python",
      "nbconvert_exporter": "python",
      "pygments_lexer": "ipython3",
      "version": "3.12.2"
    }
  },
  "nbformat": 4,
  "nbformat_minor": 0
}
